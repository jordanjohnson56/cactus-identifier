{
 "cells": [
  {
   "cell_type": "code",
   "execution_count": 3,
   "metadata": {},
   "outputs": [],
   "source": [
    "import matplotlib.pyplot as plt\n",
    "import numpy as np\n",
    "import cv2\n",
    "import pandas as pd\n",
    "from os import listdir\n",
    "from os.path import isfile, join"
   ]
  },
  {
   "cell_type": "code",
   "execution_count": 4,
   "metadata": {},
   "outputs": [
    {
     "name": "stdout",
     "output_type": "stream",
     "text": [
      "[[[125 138 136]\n",
      "  [123 136 134]\n",
      "  [140 148 148]\n",
      "  ...\n",
      "  [135 129 152]\n",
      "  [130 125 146]\n",
      "  [140 135 156]]\n",
      "\n",
      " [[113 126 124]\n",
      "  [150 163 161]\n",
      "  [151 159 159]\n",
      "  ...\n",
      "  [146 140 163]\n",
      "  [131 126 147]\n",
      "  [129 124 145]]\n",
      "\n",
      " [[150 163 161]\n",
      "  [149 162 160]\n",
      "  [151 159 159]\n",
      "  ...\n",
      "  [134 129 150]\n",
      "  [145 140 161]\n",
      "  [113 108 129]]\n",
      "\n",
      " ...\n",
      "\n",
      " [[122 111 137]\n",
      "  [182 171 197]\n",
      "  [ 95  85 108]\n",
      "  ...\n",
      "  [147 132 159]\n",
      "  [135 118 145]\n",
      "  [146 129 156]]\n",
      "\n",
      " [[135 124 150]\n",
      "  [154 143 169]\n",
      "  [137 124 150]\n",
      "  ...\n",
      "  [157 139 168]\n",
      "  [143 123 152]\n",
      "  [143 123 152]]\n",
      "\n",
      " [[168 157 183]\n",
      "  [100  89 115]\n",
      "  [152 139 165]\n",
      "  ...\n",
      "  [168 150 179]\n",
      "  [133 113 142]\n",
      "  [130 110 139]]]\n"
     ]
    }
   ],
   "source": [
    "files = [f for f in listdir('data/train') if isfile(join('data/train', f))]\n",
    "X_train = []\n",
    "\n",
    "for f in files:\n",
    "  X_train.append(cv2.imread(join('data/train', f)))\n",
    "\n",
    "X_train = np.array(X_train)\n",
    "y_train = pd.read_csv('data/train.csv').to_numpy()[:,1]\n",
    "\n",
    "print(X_train[0])"
   ]
  },
  {
   "cell_type": "code",
   "execution_count": null,
   "metadata": {},
   "outputs": [],
   "source": []
  },
  {
   "cell_type": "code",
   "execution_count": 5,
   "metadata": {},
   "outputs": [
    {
     "name": "stdout",
     "output_type": "stream",
     "text": [
      "0\n"
     ]
    },
    {
     "data": {
      "image/png": "[encoded data removed]",
      "text/plain": [
       "<Figure size 432x288 with 1 Axes>"
      ]
     },
     "metadata": {
      "needs_background": "light"
     },
     "output_type": "display_data"
    }
   ],
   "source": [
    "files = [f for f in listdir('data/train') if isfile(join('data/train', f))]\n",
    "labels = pd.read_csv('data/train.csv').to_numpy()[:,1]\n",
    "\n",
    "img = cv2.imread(join('data/train', files[6]))\n",
    "\n",
    "plt.imshow(img)\n",
    "print(labels[6])"
   ]
  },
  {
   "cell_type": "code",
   "execution_count": null,
   "metadata": {},
   "outputs": [],
   "source": []
  }
 ],
 "metadata": {
  "kernelspec": {
   "display_name": "Python 3",
   "language": "python",
   "name": "python3"
  },
  "language_info": {
   "codemirror_mode": {
    "name": "ipython",
    "version": 3
   },
   "file_extension": ".py",
   "mimetype": "text/x-python",
   "name": "python",
   "nbconvert_exporter": "python",
   "pygments_lexer": "ipython3",
   "version": "3.7.2"
  }
 },
 "nbformat": 4,
 "nbformat_minor": 2
}
